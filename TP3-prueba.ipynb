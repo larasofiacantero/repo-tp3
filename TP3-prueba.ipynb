{
 "cells": [
  {
   "cell_type": "markdown",
   "id": "4a065d14-6398-4198-afc2-8cded57c2485",
   "metadata": {},
   "source": [
    "esta es una prueba para ver si me sale el git push"
   ]
  },
  {
   "cell_type": "code",
   "execution_count": 4,
   "id": "5707979a-bd1f-4ad8-9b54-96bce63299b6",
   "metadata": {},
   "outputs": [
    {
     "name": "stdout",
     "output_type": "stream",
     "text": [
      "hola\n"
     ]
    }
   ],
   "source": [
    "print(\"hola\")"
   ]
  },
  {
   "cell_type": "code",
   "execution_count": null,
   "id": "7d29abd8-cc1f-4af9-8971-1764513b2e92",
   "metadata": {},
   "outputs": [],
   "source": []
  },
  {
   "cell_type": "code",
   "execution_count": null,
   "id": "6020cdd5-9e8b-4767-9340-fcda9f5d6da2",
   "metadata": {},
   "outputs": [],
   "source": []
  }
 ],
 "metadata": {
  "kernelspec": {
   "display_name": "Python 3 (ipykernel)",
   "language": "python",
   "name": "python3"
  },
  "language_info": {
   "codemirror_mode": {
    "name": "ipython",
    "version": 3
   },
   "file_extension": ".py",
   "mimetype": "text/x-python",
   "name": "python",
   "nbconvert_exporter": "python",
   "pygments_lexer": "ipython3",
   "version": "3.12.4"
  }
 },
 "nbformat": 4,
 "nbformat_minor": 5
}
