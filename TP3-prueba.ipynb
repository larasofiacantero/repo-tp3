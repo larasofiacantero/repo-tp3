{
 "cells": [
  {
   "cell_type": "code",
   "execution_count": null,
   "id": "ed4754cc-146e-4e69-b35e-da1a545aa691",
   "metadata": {},
   "outputs": [],
   "source": []
  }
 ],
 "metadata": {
  "kernelspec": {
   "display_name": "",
   "name": ""
  },
  "language_info": {
   "name": ""
  }
 },
 "nbformat": 4,
 "nbformat_minor": 5
}
